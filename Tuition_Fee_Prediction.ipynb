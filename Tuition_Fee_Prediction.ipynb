{
  "nbformat": 4,
  "nbformat_minor": 0,
  "metadata": {
    "colab": {
      "name": "Tuition Fee Prediction.ipynb",
      "provenance": [],
      "collapsed_sections": [],
      "include_colab_link": true
    },
    "kernelspec": {
      "name": "python3",
      "display_name": "Python 3"
    },
    "language_info": {
      "name": "python"
    }
  },
  "cells": [
    {
      "cell_type": "markdown",
      "metadata": {
        "id": "view-in-github",
        "colab_type": "text"
      },
      "source": [
        "<a href=\"https://colab.research.google.com/github/debi92/Equalee/blob/main/Tuition_Fee_Prediction.ipynb\" target=\"_parent\"><img src=\"https://colab.research.google.com/assets/colab-badge.svg\" alt=\"Open In Colab\"/></a>"
      ]
    },
    {
      "cell_type": "markdown",
      "metadata": {
        "id": "OEGWaT-kvjJF"
      },
      "source": [
        "## Tuition Fee Prediction based on Student's Family's Socio-Economic Factors\n",
        "\n",
        "Education is still a major problem in Indonesia. One of the main reason is the unequality of educational facility and socio economic factors that caused someone to dropout from school. This project is to give prediction on which category of tuition fee that every student need to pay based on their family's socio-economic factors, such as: income, electricity bill, water bill, internet bill, house ownership, house size, number of dependents in the family so it will give an equality in the payment of education fees, where people with better economies will help paying for the poorer education. \n",
        "Manually analyzing these factors is mundane, error-prone, and time-consuming (and time is money!). Luckily, this task can be automated with the power of machine learning. In this notebook, we will build an automatic tuition fee predictor using machine learning techniques.\n",
        "\n",
        "The dataset we used was made by ourselves by gaining data from parents in Java (mostly Jakarta and West Java). We asked them their socio economic background and the tuition fee their paying monthly. \n",
        "The structure of this notebook is as follows:\n",
        "\n",
        "First, we will start off by loading and viewing the dataset.\n",
        "\n",
        "1.   First, we will start by importing the library that needed in this project\n",
        "2.   Then we will load and view the dataset. \n",
        "3.   We will see that the dataset has a mixture of both numerical and non-numerical features, that it contains values from different ranges.\n",
        "4.   We will have to preprocess the dataset to ensure the machine learning model we choose can make good predictions.\n",
        "5.   After our data is in good shape, we will do some exploratory data analysis to build our intuitions.\n",
        "6.   Finally, we will build a machine learning model that can predict the tuition fee's category. "
      ]
    },
    {
      "cell_type": "code",
      "metadata": {
        "id": "4B8ucpBmuiU_"
      },
      "source": [
        "import numpy as np\n",
        "import pandas as pd\n",
        "import matplotlib.pyplot as plt\n",
        "\n",
        "from sklearn.preprocessing import LabelEncoder, StandardScaler\n",
        "from sklearn.model_selection import train_test_split\n",
        "from pandas import Series, DataFrame\n",
        "from pylab import rcParams\n",
        "\n",
        "import scipy\n",
        "from scipy.stats import spearmanr\n",
        "\n",
        "import seaborn as sb\n",
        "\n",
        "import tensorflow as tf\n",
        "\n",
        "from sklearn.preprocessing import MinMaxScaler\n",
        "from sklearn.preprocessing import StandardScaler\n"
      ],
      "execution_count": 1,
      "outputs": []
    },
    {
      "cell_type": "code",
      "metadata": {
        "colab": {
          "base_uri": "https://localhost:8080/",
          "height": 492
        },
        "id": "kfl0CoDFviS2",
        "outputId": "431d9f11-613a-4c11-94b2-e176fcbc8134"
      },
      "source": [
        "tfp = pd.read_csv('/content/Dataset Sosial Ekonomi dan Uang Sekolah.csv')\n",
        "tfp.head()"
      ],
      "execution_count": 2,
      "outputs": [
        {
          "output_type": "execute_result",
          "data": {
            "text/html": [
              "<div>\n",
              "<style scoped>\n",
              "    .dataframe tbody tr th:only-of-type {\n",
              "        vertical-align: middle;\n",
              "    }\n",
              "\n",
              "    .dataframe tbody tr th {\n",
              "        vertical-align: top;\n",
              "    }\n",
              "\n",
              "    .dataframe thead th {\n",
              "        text-align: right;\n",
              "    }\n",
              "</style>\n",
              "<table border=\"1\" class=\"dataframe\">\n",
              "  <thead>\n",
              "    <tr style=\"text-align: right;\">\n",
              "      <th></th>\n",
              "      <th>Nama</th>\n",
              "      <th>Domisili</th>\n",
              "      <th>Pekerjaan</th>\n",
              "      <th>Tingkat</th>\n",
              "      <th>Nama sekolah</th>\n",
              "      <th>Jenis sekolah</th>\n",
              "      <th>Biaya sekolah</th>\n",
              "      <th>Kepemilikan rumah</th>\n",
              "      <th>Jenis bangunan</th>\n",
              "      <th>Ukuran rumah</th>\n",
              "      <th>Listrik</th>\n",
              "      <th>Air</th>\n",
              "      <th>Internet</th>\n",
              "      <th>Penghasilan</th>\n",
              "      <th>Jumlah tanggungan</th>\n",
              "    </tr>\n",
              "  </thead>\n",
              "  <tbody>\n",
              "    <tr>\n",
              "      <th>0</th>\n",
              "      <td>HN</td>\n",
              "      <td>Jakarta</td>\n",
              "      <td>IRT</td>\n",
              "      <td>SD</td>\n",
              "      <td>Chandra Kusuma</td>\n",
              "      <td>Swasta</td>\n",
              "      <td>Rp 500.001 - Rp 1.000.000</td>\n",
              "      <td>Milik sendiri/ keluarga</td>\n",
              "      <td>Rumah</td>\n",
              "      <td>&lt; 36 m2</td>\n",
              "      <td>Rp. 500.001 – Rp. 1.000.000</td>\n",
              "      <td>Rp. 250.001 – Rp. 500.000</td>\n",
              "      <td>Rp. 100.000 – Rp. 250.000</td>\n",
              "      <td>Rp. 3.000.001 - Rp. 6.000.000</td>\n",
              "      <td>2</td>\n",
              "    </tr>\n",
              "    <tr>\n",
              "      <th>1</th>\n",
              "      <td>HN</td>\n",
              "      <td>Jakarta</td>\n",
              "      <td>IRT</td>\n",
              "      <td>SD</td>\n",
              "      <td>SDN 01 pejagalan</td>\n",
              "      <td>Negri</td>\n",
              "      <td>≤ Rp. 100.000</td>\n",
              "      <td>Milik sendiri/ keluarga</td>\n",
              "      <td>Rumah</td>\n",
              "      <td>&lt; 36 m2</td>\n",
              "      <td>Rp. 500.001 – Rp. 1.000.000</td>\n",
              "      <td>Rp. 250.001 – Rp. 500.000</td>\n",
              "      <td>Rp. 100.000 – Rp. 250.000</td>\n",
              "      <td>Rp. 3.000.001 - Rp. 6.000.000</td>\n",
              "      <td>2</td>\n",
              "    </tr>\n",
              "    <tr>\n",
              "      <th>2</th>\n",
              "      <td>SG</td>\n",
              "      <td>Banten</td>\n",
              "      <td>Guru</td>\n",
              "      <td>SD</td>\n",
              "      <td>SD 03</td>\n",
              "      <td>Negri</td>\n",
              "      <td>≤ Rp. 100.000</td>\n",
              "      <td>Kontrak/ sewa</td>\n",
              "      <td>Rumah</td>\n",
              "      <td>36 – 60 m2</td>\n",
              "      <td>Rp. 250.001 – Rp. 500.000</td>\n",
              "      <td>≤ Rp. 100.000</td>\n",
              "      <td>Rp. 100.000 – Rp. 250.000</td>\n",
              "      <td>Rp. 3.000.001 - Rp. 6.000.000</td>\n",
              "      <td>3</td>\n",
              "    </tr>\n",
              "    <tr>\n",
              "      <th>3</th>\n",
              "      <td>Ros</td>\n",
              "      <td>Jakarta</td>\n",
              "      <td>Wiraswasta</td>\n",
              "      <td>SD</td>\n",
              "      <td>SD CHANDRA KUSUMA</td>\n",
              "      <td>Swasta</td>\n",
              "      <td>Rp 500.001 - Rp 1.000.000</td>\n",
              "      <td>Kontrak/ sewa</td>\n",
              "      <td>Rumah</td>\n",
              "      <td>36 – 60 m2</td>\n",
              "      <td>Lebih dari Rp 1.000.000</td>\n",
              "      <td>Rp. 500.001 – Rp. 1.000.000</td>\n",
              "      <td>Rp. 250.001 – Rp. 500.000</td>\n",
              "      <td>Rp. 10.000.001 - Rp.20.000.000</td>\n",
              "      <td>1</td>\n",
              "    </tr>\n",
              "    <tr>\n",
              "      <th>4</th>\n",
              "      <td>DS</td>\n",
              "      <td>Jakarta</td>\n",
              "      <td>IRT</td>\n",
              "      <td>SD</td>\n",
              "      <td>Chandra Kusuma</td>\n",
              "      <td>Swasta</td>\n",
              "      <td>Rp 500.001 - Rp 1.000.000</td>\n",
              "      <td>Milik sendiri/ keluarga</td>\n",
              "      <td>Rumah</td>\n",
              "      <td>61 – 90 m2</td>\n",
              "      <td>Lebih dari Rp 1.000.000</td>\n",
              "      <td>Rp. 100.000 – Rp. 250.000</td>\n",
              "      <td>Rp. 100.000 – Rp. 250.000</td>\n",
              "      <td>Rp. 10.000.001 - Rp.20.000.000</td>\n",
              "      <td>3</td>\n",
              "    </tr>\n",
              "  </tbody>\n",
              "</table>\n",
              "</div>"
            ],
            "text/plain": [
              "  Nama Domisili  ...                     Penghasilan Jumlah tanggungan\n",
              "0   HN  Jakarta  ...   Rp. 3.000.001 - Rp. 6.000.000                 2\n",
              "1   HN  Jakarta  ...   Rp. 3.000.001 - Rp. 6.000.000                 2\n",
              "2   SG   Banten  ...   Rp. 3.000.001 - Rp. 6.000.000                 3\n",
              "3  Ros  Jakarta  ...  Rp. 10.000.001 - Rp.20.000.000                 1\n",
              "4   DS  Jakarta  ...  Rp. 10.000.001 - Rp.20.000.000                 3\n",
              "\n",
              "[5 rows x 15 columns]"
            ]
          },
          "metadata": {
            "tags": []
          },
          "execution_count": 2
        }
      ]
    },
    {
      "cell_type": "markdown",
      "metadata": {
        "id": "-7jZ6kq62TXM"
      },
      "source": [
        "# Check Data Type"
      ]
    },
    {
      "cell_type": "code",
      "metadata": {
        "colab": {
          "base_uri": "https://localhost:8080/"
        },
        "id": "-h6wbB4W3tL6",
        "outputId": "8cc00fd4-6916-4f51-b404-df2914bd6907"
      },
      "source": [
        "tfp.info()"
      ],
      "execution_count": 3,
      "outputs": [
        {
          "output_type": "stream",
          "text": [
            "<class 'pandas.core.frame.DataFrame'>\n",
            "RangeIndex: 113 entries, 0 to 112\n",
            "Data columns (total 15 columns):\n",
            " #   Column             Non-Null Count  Dtype \n",
            "---  ------             --------------  ----- \n",
            " 0   Nama               113 non-null    object\n",
            " 1   Domisili           113 non-null    object\n",
            " 2   Pekerjaan          113 non-null    object\n",
            " 3   Tingkat            113 non-null    object\n",
            " 4   Nama sekolah       113 non-null    object\n",
            " 5   Jenis sekolah      113 non-null    object\n",
            " 6   Biaya sekolah      113 non-null    object\n",
            " 7   Kepemilikan rumah  113 non-null    object\n",
            " 8   Jenis bangunan     113 non-null    object\n",
            " 9   Ukuran rumah       113 non-null    object\n",
            " 10  Listrik            113 non-null    object\n",
            " 11  Air                113 non-null    object\n",
            " 12  Internet           113 non-null    object\n",
            " 13  Penghasilan        113 non-null    object\n",
            " 14  Jumlah tanggungan  113 non-null    object\n",
            "dtypes: object(15)\n",
            "memory usage: 13.4+ KB\n"
          ],
          "name": "stdout"
        }
      ]
    },
    {
      "cell_type": "markdown",
      "metadata": {
        "id": "itF1Asn42Ig8"
      },
      "source": [
        "# Change categorical data"
      ]
    },
    {
      "cell_type": "code",
      "metadata": {
        "colab": {
          "base_uri": "https://localhost:8080/",
          "height": 510
        },
        "id": "VLapNh3hAEKO",
        "outputId": "b2da88b3-3b73-4c27-fed6-63fbc32778b2"
      },
      "source": [
        "biaya_dict = {'≤ Rp. 100.000':0,'Rp 100.001 - Rp 500.000':1,'Rp 500.001 - Rp 1.000.000':2,'Rp 1.000.001 - Rp 2.000.000':3,'lebih dari 2 juta':4}\n",
        "tfp['Biaya kat'] = tfp['Biaya sekolah'].map(biaya_dict)\n",
        "\n",
        "kepemilikan_dict = {'Milik sendiri/ keluarga':2,'Kontrak/ sewa':1}\n",
        "tfp['Kepemilikan kat'] = tfp['Kepemilikan rumah'].map(kepemilikan_dict)\n",
        "\n",
        "jenis_bangunan_dict = {'Rumah susun':1,'Apartemen':2,'Rumah':3,'Ruko':4}\n",
        "tfp['Jenis bangunan kat'] = tfp['Jenis bangunan'].map(jenis_bangunan_dict)\n",
        "\n",
        "ukuran_rumah_dict = {'< 36 m2':1,'36 – 60 m2':2,'61 – 90 m2':3,'91 – 120 m2':4, '121 – 150 m2':5, 'lebih dari 150 m2':6}\n",
        "tfp['Ukuran rumah kat'] = tfp['Ukuran rumah'].map(ukuran_rumah_dict)\n",
        "\n",
        "utility_dict = {'≤ Rp. 100.000':1,'Rp. 100.000 – Rp. 250.000':2,'Rp. 250.001 – Rp. 500.000':3,'Rp. 500.001 – Rp. 1.000.000':4, 'Lebih dari Rp 1.000.000':5}\n",
        "tfp['Listrik kat'] = tfp['Listrik'].map(utility_dict)\n",
        "tfp['Air kat'] = tfp['Air'].map(utility_dict)\n",
        "tfp['Internet kat'] = tfp['Internet'].map(utility_dict)\n",
        "\n",
        "penghasilan_dict = {'≤ Rp. 3.000.000':1,'Rp. 3.000.001 - Rp. 6.000.000':2,'Rp. 6.000.001 - Rp. 10.000.000':3,'Rp. 10.000.001 - Rp.20.000.000':4,'Lebih dari Rp.20.000.000':5}\n",
        "tfp['Penghasilan kat'] = tfp['Penghasilan'].map(penghasilan_dict)\n",
        "\n",
        "tanggungan_dict = {'lebih dari 4':1,'4':2,'3':3,'2':4,'1':5}\n",
        "tfp['Tanggungan kat'] = tfp['Jumlah tanggungan'].map(tanggungan_dict)\n",
        "\n",
        "tfp.head()"
      ],
      "execution_count": 4,
      "outputs": [
        {
          "output_type": "execute_result",
          "data": {
            "text/html": [
              "<div>\n",
              "<style scoped>\n",
              "    .dataframe tbody tr th:only-of-type {\n",
              "        vertical-align: middle;\n",
              "    }\n",
              "\n",
              "    .dataframe tbody tr th {\n",
              "        vertical-align: top;\n",
              "    }\n",
              "\n",
              "    .dataframe thead th {\n",
              "        text-align: right;\n",
              "    }\n",
              "</style>\n",
              "<table border=\"1\" class=\"dataframe\">\n",
              "  <thead>\n",
              "    <tr style=\"text-align: right;\">\n",
              "      <th></th>\n",
              "      <th>Nama</th>\n",
              "      <th>Domisili</th>\n",
              "      <th>Pekerjaan</th>\n",
              "      <th>Tingkat</th>\n",
              "      <th>Nama sekolah</th>\n",
              "      <th>Jenis sekolah</th>\n",
              "      <th>Biaya sekolah</th>\n",
              "      <th>Kepemilikan rumah</th>\n",
              "      <th>Jenis bangunan</th>\n",
              "      <th>Ukuran rumah</th>\n",
              "      <th>Listrik</th>\n",
              "      <th>Air</th>\n",
              "      <th>Internet</th>\n",
              "      <th>Penghasilan</th>\n",
              "      <th>Jumlah tanggungan</th>\n",
              "      <th>Biaya kat</th>\n",
              "      <th>Kepemilikan kat</th>\n",
              "      <th>Jenis bangunan kat</th>\n",
              "      <th>Ukuran rumah kat</th>\n",
              "      <th>Listrik kat</th>\n",
              "      <th>Air kat</th>\n",
              "      <th>Internet kat</th>\n",
              "      <th>Penghasilan kat</th>\n",
              "      <th>Tanggungan kat</th>\n",
              "    </tr>\n",
              "  </thead>\n",
              "  <tbody>\n",
              "    <tr>\n",
              "      <th>0</th>\n",
              "      <td>HN</td>\n",
              "      <td>Jakarta</td>\n",
              "      <td>IRT</td>\n",
              "      <td>SD</td>\n",
              "      <td>Chandra Kusuma</td>\n",
              "      <td>Swasta</td>\n",
              "      <td>Rp 500.001 - Rp 1.000.000</td>\n",
              "      <td>Milik sendiri/ keluarga</td>\n",
              "      <td>Rumah</td>\n",
              "      <td>&lt; 36 m2</td>\n",
              "      <td>Rp. 500.001 – Rp. 1.000.000</td>\n",
              "      <td>Rp. 250.001 – Rp. 500.000</td>\n",
              "      <td>Rp. 100.000 – Rp. 250.000</td>\n",
              "      <td>Rp. 3.000.001 - Rp. 6.000.000</td>\n",
              "      <td>2</td>\n",
              "      <td>2</td>\n",
              "      <td>2</td>\n",
              "      <td>3</td>\n",
              "      <td>1</td>\n",
              "      <td>4</td>\n",
              "      <td>3</td>\n",
              "      <td>2</td>\n",
              "      <td>2</td>\n",
              "      <td>4</td>\n",
              "    </tr>\n",
              "    <tr>\n",
              "      <th>1</th>\n",
              "      <td>HN</td>\n",
              "      <td>Jakarta</td>\n",
              "      <td>IRT</td>\n",
              "      <td>SD</td>\n",
              "      <td>SDN 01 pejagalan</td>\n",
              "      <td>Negri</td>\n",
              "      <td>≤ Rp. 100.000</td>\n",
              "      <td>Milik sendiri/ keluarga</td>\n",
              "      <td>Rumah</td>\n",
              "      <td>&lt; 36 m2</td>\n",
              "      <td>Rp. 500.001 – Rp. 1.000.000</td>\n",
              "      <td>Rp. 250.001 – Rp. 500.000</td>\n",
              "      <td>Rp. 100.000 – Rp. 250.000</td>\n",
              "      <td>Rp. 3.000.001 - Rp. 6.000.000</td>\n",
              "      <td>2</td>\n",
              "      <td>0</td>\n",
              "      <td>2</td>\n",
              "      <td>3</td>\n",
              "      <td>1</td>\n",
              "      <td>4</td>\n",
              "      <td>3</td>\n",
              "      <td>2</td>\n",
              "      <td>2</td>\n",
              "      <td>4</td>\n",
              "    </tr>\n",
              "    <tr>\n",
              "      <th>2</th>\n",
              "      <td>SG</td>\n",
              "      <td>Banten</td>\n",
              "      <td>Guru</td>\n",
              "      <td>SD</td>\n",
              "      <td>SD 03</td>\n",
              "      <td>Negri</td>\n",
              "      <td>≤ Rp. 100.000</td>\n",
              "      <td>Kontrak/ sewa</td>\n",
              "      <td>Rumah</td>\n",
              "      <td>36 – 60 m2</td>\n",
              "      <td>Rp. 250.001 – Rp. 500.000</td>\n",
              "      <td>≤ Rp. 100.000</td>\n",
              "      <td>Rp. 100.000 – Rp. 250.000</td>\n",
              "      <td>Rp. 3.000.001 - Rp. 6.000.000</td>\n",
              "      <td>3</td>\n",
              "      <td>0</td>\n",
              "      <td>1</td>\n",
              "      <td>3</td>\n",
              "      <td>2</td>\n",
              "      <td>3</td>\n",
              "      <td>1</td>\n",
              "      <td>2</td>\n",
              "      <td>2</td>\n",
              "      <td>3</td>\n",
              "    </tr>\n",
              "    <tr>\n",
              "      <th>3</th>\n",
              "      <td>Ros</td>\n",
              "      <td>Jakarta</td>\n",
              "      <td>Wiraswasta</td>\n",
              "      <td>SD</td>\n",
              "      <td>SD CHANDRA KUSUMA</td>\n",
              "      <td>Swasta</td>\n",
              "      <td>Rp 500.001 - Rp 1.000.000</td>\n",
              "      <td>Kontrak/ sewa</td>\n",
              "      <td>Rumah</td>\n",
              "      <td>36 – 60 m2</td>\n",
              "      <td>Lebih dari Rp 1.000.000</td>\n",
              "      <td>Rp. 500.001 – Rp. 1.000.000</td>\n",
              "      <td>Rp. 250.001 – Rp. 500.000</td>\n",
              "      <td>Rp. 10.000.001 - Rp.20.000.000</td>\n",
              "      <td>1</td>\n",
              "      <td>2</td>\n",
              "      <td>1</td>\n",
              "      <td>3</td>\n",
              "      <td>2</td>\n",
              "      <td>5</td>\n",
              "      <td>4</td>\n",
              "      <td>3</td>\n",
              "      <td>4</td>\n",
              "      <td>5</td>\n",
              "    </tr>\n",
              "    <tr>\n",
              "      <th>4</th>\n",
              "      <td>DS</td>\n",
              "      <td>Jakarta</td>\n",
              "      <td>IRT</td>\n",
              "      <td>SD</td>\n",
              "      <td>Chandra Kusuma</td>\n",
              "      <td>Swasta</td>\n",
              "      <td>Rp 500.001 - Rp 1.000.000</td>\n",
              "      <td>Milik sendiri/ keluarga</td>\n",
              "      <td>Rumah</td>\n",
              "      <td>61 – 90 m2</td>\n",
              "      <td>Lebih dari Rp 1.000.000</td>\n",
              "      <td>Rp. 100.000 – Rp. 250.000</td>\n",
              "      <td>Rp. 100.000 – Rp. 250.000</td>\n",
              "      <td>Rp. 10.000.001 - Rp.20.000.000</td>\n",
              "      <td>3</td>\n",
              "      <td>2</td>\n",
              "      <td>2</td>\n",
              "      <td>3</td>\n",
              "      <td>3</td>\n",
              "      <td>5</td>\n",
              "      <td>2</td>\n",
              "      <td>2</td>\n",
              "      <td>4</td>\n",
              "      <td>3</td>\n",
              "    </tr>\n",
              "  </tbody>\n",
              "</table>\n",
              "</div>"
            ],
            "text/plain": [
              "  Nama Domisili   Pekerjaan  ... Internet kat Penghasilan kat Tanggungan kat\n",
              "0   HN  Jakarta         IRT  ...            2               2              4\n",
              "1   HN  Jakarta         IRT  ...            2               2              4\n",
              "2   SG   Banten        Guru  ...            2               2              3\n",
              "3  Ros  Jakarta  Wiraswasta  ...            3               4              5\n",
              "4   DS  Jakarta         IRT  ...            2               4              3\n",
              "\n",
              "[5 rows x 24 columns]"
            ]
          },
          "metadata": {
            "tags": []
          },
          "execution_count": 4
        }
      ]
    },
    {
      "cell_type": "code",
      "metadata": {
        "colab": {
          "base_uri": "https://localhost:8080/"
        },
        "id": "eB9Z8qLiYNfJ",
        "outputId": "01330c70-d0f7-4191-965d-920bc3dfe62a"
      },
      "source": [
        "tfp.info()"
      ],
      "execution_count": 5,
      "outputs": [
        {
          "output_type": "stream",
          "text": [
            "<class 'pandas.core.frame.DataFrame'>\n",
            "RangeIndex: 113 entries, 0 to 112\n",
            "Data columns (total 24 columns):\n",
            " #   Column              Non-Null Count  Dtype \n",
            "---  ------              --------------  ----- \n",
            " 0   Nama                113 non-null    object\n",
            " 1   Domisili            113 non-null    object\n",
            " 2   Pekerjaan           113 non-null    object\n",
            " 3   Tingkat             113 non-null    object\n",
            " 4   Nama sekolah        113 non-null    object\n",
            " 5   Jenis sekolah       113 non-null    object\n",
            " 6   Biaya sekolah       113 non-null    object\n",
            " 7   Kepemilikan rumah   113 non-null    object\n",
            " 8   Jenis bangunan      113 non-null    object\n",
            " 9   Ukuran rumah        113 non-null    object\n",
            " 10  Listrik             113 non-null    object\n",
            " 11  Air                 113 non-null    object\n",
            " 12  Internet            113 non-null    object\n",
            " 13  Penghasilan         113 non-null    object\n",
            " 14  Jumlah tanggungan   113 non-null    object\n",
            " 15  Biaya kat           113 non-null    int64 \n",
            " 16  Kepemilikan kat     113 non-null    int64 \n",
            " 17  Jenis bangunan kat  113 non-null    int64 \n",
            " 18  Ukuran rumah kat    113 non-null    int64 \n",
            " 19  Listrik kat         113 non-null    int64 \n",
            " 20  Air kat             113 non-null    int64 \n",
            " 21  Internet kat        113 non-null    int64 \n",
            " 22  Penghasilan kat     113 non-null    int64 \n",
            " 23  Tanggungan kat      113 non-null    int64 \n",
            "dtypes: int64(9), object(15)\n",
            "memory usage: 21.3+ KB\n"
          ],
          "name": "stdout"
        }
      ]
    },
    {
      "cell_type": "markdown",
      "metadata": {
        "id": "VJOGTkbJ2lIO"
      },
      "source": [
        "# Preprocessing Data"
      ]
    },
    {
      "cell_type": "code",
      "metadata": {
        "colab": {
          "base_uri": "https://localhost:8080/",
          "height": 217
        },
        "id": "eFNLeKeGYRjm",
        "outputId": "8e4ce36a-5ef5-44f0-c0fa-51f8d9d28ad4"
      },
      "source": [
        "cols = [0,1,2,3,4,5,6,7,8,9,10,11,12,13,14]\n",
        "tfp.drop(tfp.columns[cols],axis=1,inplace=True)\n",
        "\n",
        "tfp.head()\n"
      ],
      "execution_count": 6,
      "outputs": [
        {
          "output_type": "execute_result",
          "data": {
            "text/html": [
              "<div>\n",
              "<style scoped>\n",
              "    .dataframe tbody tr th:only-of-type {\n",
              "        vertical-align: middle;\n",
              "    }\n",
              "\n",
              "    .dataframe tbody tr th {\n",
              "        vertical-align: top;\n",
              "    }\n",
              "\n",
              "    .dataframe thead th {\n",
              "        text-align: right;\n",
              "    }\n",
              "</style>\n",
              "<table border=\"1\" class=\"dataframe\">\n",
              "  <thead>\n",
              "    <tr style=\"text-align: right;\">\n",
              "      <th></th>\n",
              "      <th>Biaya kat</th>\n",
              "      <th>Kepemilikan kat</th>\n",
              "      <th>Jenis bangunan kat</th>\n",
              "      <th>Ukuran rumah kat</th>\n",
              "      <th>Listrik kat</th>\n",
              "      <th>Air kat</th>\n",
              "      <th>Internet kat</th>\n",
              "      <th>Penghasilan kat</th>\n",
              "      <th>Tanggungan kat</th>\n",
              "    </tr>\n",
              "  </thead>\n",
              "  <tbody>\n",
              "    <tr>\n",
              "      <th>0</th>\n",
              "      <td>2</td>\n",
              "      <td>2</td>\n",
              "      <td>3</td>\n",
              "      <td>1</td>\n",
              "      <td>4</td>\n",
              "      <td>3</td>\n",
              "      <td>2</td>\n",
              "      <td>2</td>\n",
              "      <td>4</td>\n",
              "    </tr>\n",
              "    <tr>\n",
              "      <th>1</th>\n",
              "      <td>0</td>\n",
              "      <td>2</td>\n",
              "      <td>3</td>\n",
              "      <td>1</td>\n",
              "      <td>4</td>\n",
              "      <td>3</td>\n",
              "      <td>2</td>\n",
              "      <td>2</td>\n",
              "      <td>4</td>\n",
              "    </tr>\n",
              "    <tr>\n",
              "      <th>2</th>\n",
              "      <td>0</td>\n",
              "      <td>1</td>\n",
              "      <td>3</td>\n",
              "      <td>2</td>\n",
              "      <td>3</td>\n",
              "      <td>1</td>\n",
              "      <td>2</td>\n",
              "      <td>2</td>\n",
              "      <td>3</td>\n",
              "    </tr>\n",
              "    <tr>\n",
              "      <th>3</th>\n",
              "      <td>2</td>\n",
              "      <td>1</td>\n",
              "      <td>3</td>\n",
              "      <td>2</td>\n",
              "      <td>5</td>\n",
              "      <td>4</td>\n",
              "      <td>3</td>\n",
              "      <td>4</td>\n",
              "      <td>5</td>\n",
              "    </tr>\n",
              "    <tr>\n",
              "      <th>4</th>\n",
              "      <td>2</td>\n",
              "      <td>2</td>\n",
              "      <td>3</td>\n",
              "      <td>3</td>\n",
              "      <td>5</td>\n",
              "      <td>2</td>\n",
              "      <td>2</td>\n",
              "      <td>4</td>\n",
              "      <td>3</td>\n",
              "    </tr>\n",
              "  </tbody>\n",
              "</table>\n",
              "</div>"
            ],
            "text/plain": [
              "   Biaya kat  Kepemilikan kat  ...  Penghasilan kat  Tanggungan kat\n",
              "0          2                2  ...                2               4\n",
              "1          0                2  ...                2               4\n",
              "2          0                1  ...                2               3\n",
              "3          2                1  ...                4               5\n",
              "4          2                2  ...                4               3\n",
              "\n",
              "[5 rows x 9 columns]"
            ]
          },
          "metadata": {
            "tags": []
          },
          "execution_count": 6
        }
      ]
    },
    {
      "cell_type": "markdown",
      "metadata": {
        "id": "E8zbbH5g2oeD"
      },
      "source": [
        "# Split the Data"
      ]
    },
    {
      "cell_type": "code",
      "metadata": {
        "id": "w8ab0pMVYcOG"
      },
      "source": [
        "# Segregate features and labels into separate variables\n",
        "y = tfp['Biaya kat']\n",
        "X = tfp.drop(['Biaya kat'], axis=1)\n",
        "\n",
        "scaler = StandardScaler()\n",
        "\n",
        "X = scaler.fit_transform(X)\n",
        "\n",
        "# Split into train and test sets\n",
        "X_train, X_test, y_train, y_test = train_test_split(X,\n",
        "                                y,\n",
        "                                test_size=0.2,\n",
        "                                random_state=42)"
      ],
      "execution_count": 7,
      "outputs": []
    },
    {
      "cell_type": "code",
      "metadata": {
        "colab": {
          "base_uri": "https://localhost:8080/"
        },
        "id": "FK7r6NjZLVJr",
        "outputId": "918218ea-4b98-4bab-b826-5e3288cc47d7"
      },
      "source": [
        "X.shape\n"
      ],
      "execution_count": 8,
      "outputs": [
        {
          "output_type": "execute_result",
          "data": {
            "text/plain": [
              "(113, 8)"
            ]
          },
          "metadata": {
            "tags": []
          },
          "execution_count": 8
        }
      ]
    },
    {
      "cell_type": "markdown",
      "metadata": {
        "id": "OyB9QCIe2sZz"
      },
      "source": [
        "# Modeling and Training"
      ]
    },
    {
      "cell_type": "code",
      "metadata": {
        "colab": {
          "base_uri": "https://localhost:8080/"
        },
        "id": "FQ9--jk5Ycu8",
        "outputId": "056b36c6-8b61-4c0b-ce46-dffcf8cb3a19"
      },
      "source": [
        "inputs = tf.keras.Input(shape=(8,))\n",
        "x = tf.keras.layers.Dense(32, activation='relu')(inputs)\n",
        "x = tf.keras.layers.Dense(64, activation='relu')(x)\n",
        "x = tf.keras.layers.Dense(128, activation='relu')(x)\n",
        "\n",
        "outputs = tf.keras.layers.Dense(5, activation='softmax')(x)\n",
        "\n",
        "model = tf.keras.Model(inputs=inputs, outputs=outputs)\n",
        "\n",
        "\n",
        "model.compile(\n",
        "    optimizer='adam',\n",
        "    loss='sparse_categorical_crossentropy',\n",
        "    metrics=['accuracy']\n",
        ")\n",
        "\n",
        "epochs = 20\n",
        "\n",
        "history = model.fit(\n",
        "    X_train,\n",
        "    y_train,\n",
        "    validation_split=0.2,\n",
        "    epochs=epochs,\n",
        "    callbacks=[tf.keras.callbacks.ReduceLROnPlateau()]\n",
        ")"
      ],
      "execution_count": 22,
      "outputs": [
        {
          "output_type": "stream",
          "text": [
            "Epoch 1/20\n",
            "3/3 [==============================] - 1s 78ms/step - loss: 1.6219 - accuracy: 0.2222 - val_loss: 1.6503 - val_accuracy: 0.0556\n",
            "Epoch 2/20\n",
            "3/3 [==============================] - 0s 14ms/step - loss: 1.5571 - accuracy: 0.3750 - val_loss: 1.6079 - val_accuracy: 0.2222\n",
            "Epoch 3/20\n",
            "3/3 [==============================] - 0s 12ms/step - loss: 1.5060 - accuracy: 0.4167 - val_loss: 1.5745 - val_accuracy: 0.2778\n",
            "Epoch 4/20\n",
            "3/3 [==============================] - 0s 11ms/step - loss: 1.4700 - accuracy: 0.4167 - val_loss: 1.5489 - val_accuracy: 0.2778\n",
            "Epoch 5/20\n",
            "3/3 [==============================] - 0s 15ms/step - loss: 1.4342 - accuracy: 0.4167 - val_loss: 1.5312 - val_accuracy: 0.3333\n",
            "Epoch 6/20\n",
            "3/3 [==============================] - 0s 11ms/step - loss: 1.4025 - accuracy: 0.4306 - val_loss: 1.5187 - val_accuracy: 0.3333\n",
            "Epoch 7/20\n",
            "3/3 [==============================] - 0s 13ms/step - loss: 1.3763 - accuracy: 0.4444 - val_loss: 1.5124 - val_accuracy: 0.3333\n",
            "Epoch 8/20\n",
            "3/3 [==============================] - 0s 11ms/step - loss: 1.3485 - accuracy: 0.4444 - val_loss: 1.5035 - val_accuracy: 0.3333\n",
            "Epoch 9/20\n",
            "3/3 [==============================] - 0s 12ms/step - loss: 1.3251 - accuracy: 0.4444 - val_loss: 1.4986 - val_accuracy: 0.3333\n",
            "Epoch 10/20\n",
            "3/3 [==============================] - 0s 13ms/step - loss: 1.3022 - accuracy: 0.4583 - val_loss: 1.4897 - val_accuracy: 0.3333\n",
            "Epoch 11/20\n",
            "3/3 [==============================] - 0s 15ms/step - loss: 1.2788 - accuracy: 0.4583 - val_loss: 1.4824 - val_accuracy: 0.3333\n",
            "Epoch 12/20\n",
            "3/3 [==============================] - 0s 15ms/step - loss: 1.2566 - accuracy: 0.4583 - val_loss: 1.4740 - val_accuracy: 0.3333\n",
            "Epoch 13/20\n",
            "3/3 [==============================] - 0s 12ms/step - loss: 1.2339 - accuracy: 0.4583 - val_loss: 1.4673 - val_accuracy: 0.3333\n",
            "Epoch 14/20\n",
            "3/3 [==============================] - 0s 12ms/step - loss: 1.2119 - accuracy: 0.4861 - val_loss: 1.4507 - val_accuracy: 0.3333\n",
            "Epoch 15/20\n",
            "3/3 [==============================] - 0s 13ms/step - loss: 1.1906 - accuracy: 0.5278 - val_loss: 1.4306 - val_accuracy: 0.3889\n",
            "Epoch 16/20\n",
            "3/3 [==============================] - 0s 15ms/step - loss: 1.1651 - accuracy: 0.5417 - val_loss: 1.4133 - val_accuracy: 0.3889\n",
            "Epoch 17/20\n",
            "3/3 [==============================] - 0s 12ms/step - loss: 1.1437 - accuracy: 0.5556 - val_loss: 1.3904 - val_accuracy: 0.3889\n",
            "Epoch 18/20\n",
            "3/3 [==============================] - 0s 13ms/step - loss: 1.1198 - accuracy: 0.5556 - val_loss: 1.3767 - val_accuracy: 0.3889\n",
            "Epoch 19/20\n",
            "3/3 [==============================] - 0s 14ms/step - loss: 1.0971 - accuracy: 0.6111 - val_loss: 1.3605 - val_accuracy: 0.3889\n",
            "Epoch 20/20\n",
            "3/3 [==============================] - 0s 12ms/step - loss: 1.0754 - accuracy: 0.6250 - val_loss: 1.3452 - val_accuracy: 0.3889\n"
          ],
          "name": "stdout"
        }
      ]
    },
    {
      "cell_type": "markdown",
      "metadata": {
        "id": "b-yU1thC253n"
      },
      "source": [
        "# Result & Visualization\n"
      ]
    },
    {
      "cell_type": "code",
      "metadata": {
        "colab": {
          "base_uri": "https://localhost:8080/"
        },
        "id": "bomUqXBF6Yd_",
        "outputId": "857493c5-9bb0-4841-9e42-1cb331d7468b"
      },
      "source": [
        "model.summary()"
      ],
      "execution_count": 23,
      "outputs": [
        {
          "output_type": "stream",
          "text": [
            "Model: \"model_3\"\n",
            "_________________________________________________________________\n",
            "Layer (type)                 Output Shape              Param #   \n",
            "=================================================================\n",
            "input_4 (InputLayer)         [(None, 8)]               0         \n",
            "_________________________________________________________________\n",
            "dense_12 (Dense)             (None, 32)                288       \n",
            "_________________________________________________________________\n",
            "dense_13 (Dense)             (None, 64)                2112      \n",
            "_________________________________________________________________\n",
            "dense_14 (Dense)             (None, 128)               8320      \n",
            "_________________________________________________________________\n",
            "dense_15 (Dense)             (None, 5)                 645       \n",
            "=================================================================\n",
            "Total params: 11,365\n",
            "Trainable params: 11,365\n",
            "Non-trainable params: 0\n",
            "_________________________________________________________________\n"
          ],
          "name": "stdout"
        }
      ]
    },
    {
      "cell_type": "code",
      "metadata": {
        "colab": {
          "base_uri": "https://localhost:8080/",
          "height": 573
        },
        "id": "GWEg-CwHYdWR",
        "outputId": "5d2d8b5b-1bc2-4844-d659-e7c6804c7b3a"
      },
      "source": [
        "def plot_learningCurve(history, epoch):\n",
        "  # Plot training & validation accuracy values\n",
        "  epoch_range = range(1, epoch+1)\n",
        "  plt.plot(epoch_range, history.history['accuracy'])\n",
        "  plt.plot(epoch_range, history.history['val_accuracy'])\n",
        "  plt.title('Model accuracy')\n",
        "  plt.ylabel('Accuracy')\n",
        "  plt.xlabel('Epoch')\n",
        "  plt.legend(['Train', 'Val'], loc='upper left')\n",
        "  plt.show()\n",
        "\n",
        "  # Plot training & validation loss values\n",
        "  plt.plot(epoch_range, history.history['loss'])\n",
        "  plt.plot(epoch_range, history.history['val_loss'])\n",
        "  plt.title('Model loss')\n",
        "  plt.ylabel('Loss')\n",
        "  plt.xlabel('Epoch')\n",
        "  plt.legend(['Train', 'Val'], loc='upper left')\n",
        "  plt.show()\n",
        "plot_learningCurve(history, epochs)\n"
      ],
      "execution_count": 24,
      "outputs": [
        {
          "output_type": "display_data",
          "data": {
            "image/png": "[encoded data removed]",
            "text/plain": [
              "<Figure size 432x288 with 1 Axes>"
            ]
          },
          "metadata": {
            "tags": [],
            "needs_background": "light"
          }
        },
        {
          "output_type": "display_data",
          "data": {
            "image/png": "[encoded data removed]",
            "text/plain": [
              "<Figure size 432x288 with 1 Axes>"
            ]
          },
          "metadata": {
            "tags": [],
            "needs_background": "light"
          }
        }
      ]
    },
    {
      "cell_type": "code",
      "metadata": {
        "colab": {
          "base_uri": "https://localhost:8080/"
        },
        "id": "YycUzK9BYdQ9",
        "outputId": "90540817-a4ef-4408-a96e-89ed1beade68"
      },
      "source": [
        "model.evaluate(X_test, y_test)"
      ],
      "execution_count": 25,
      "outputs": [
        {
          "output_type": "stream",
          "text": [
            "1/1 [==============================] - 0s 18ms/step - loss: 1.2424 - accuracy: 0.5217\n"
          ],
          "name": "stdout"
        },
        {
          "output_type": "execute_result",
          "data": {
            "text/plain": [
              "[1.2424437999725342, 0.52173912525177]"
            ]
          },
          "metadata": {
            "tags": []
          },
          "execution_count": 25
        }
      ]
    }
  ]
}